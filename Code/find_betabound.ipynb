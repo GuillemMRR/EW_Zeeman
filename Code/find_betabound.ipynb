{
 "cells": [
  {
   "cell_type": "markdown",
   "id": "219d4ec7",
   "metadata": {},
   "source": [
    "# Find beta bound"
   ]
  },
  {
   "cell_type": "code",
   "execution_count": 1,
   "id": "1d4afc18",
   "metadata": {},
   "outputs": [],
   "source": [
    "import numpy as np\n",
    "from scipy.optimize import minimize"
   ]
  },
  {
   "cell_type": "markdown",
   "id": "a483ed05",
   "metadata": {},
   "source": [
    "For a set of measurements $\\mathbf{o}=(o_1,o_2,..,o_k)^T$ in $\\mathbb{C}^{d=2j+1}$ we will compute the boud beta, $[\\langle\\mathbf{o} \\rangle_\\psi]^T\\langle\\mathbf{o} \\rangle_\\psi\\leq \\beta$ by maximizing numerically over single-atom states $\\psi$. Another option is to find an analytical upper bound as\n",
    "\n",
    "$$||\\mathbf{R}_{0}||^2+\\kappa\\left(1-\\frac{1}{d} \\right)\\max_{\\rm eigenvalue}|R^T R|  \\geq \\beta \\ ,$$\n",
    "\n",
    "where $\\mathbf{R}_0=[\\mathrm{Tr}[\\mathbf{o}]]^T\\in \\mathbb{R}^k$ and $R=\\mathrm{Tr}[\\boldsymbol{\\lambda}[\\boldsymbol{o}]^T] \\in \\mathbb{R}^k\\times \\mathbb{R}^{d^2-1}$and $\\boldsymbol{\\lambda}$ is the Gell-Mann basis of traceless hermitian operators fulfilling the orthogonality relation $\\mathrm{Tr}[\\boldsymbol{\\lambda}\\boldsymbol{\\lambda}^T]=\\kappa\\mathbb{I}_{d^2-1}$. In general the upper bound will not be tight and will not be reproduced by a valid quantum state $\\psi$, so the numerical exploration is necessary. Also the function to maximize is not concave on the variables, so we can not use concave optimization theory.\n",
    "\n"
   ]
  },
  {
   "cell_type": "code",
   "execution_count": 2,
   "id": "01a444ec",
   "metadata": {},
   "outputs": [],
   "source": [
    "def beta_ana(o):\n",
    "    kappa = np.trace(gellmann[0] @ gellmann[0])\n",
    "    Rk = np.einsum(\"kii\", o)\n",
    "    Rkl = np.einsum(\"kij,lji->kl\", o, gellmann)\n",
    "    return np.real(np.dot(Rk,Rk) + kappa*(1-1/(2*j+1))*np.max(np.abs(np.linalg.eigh(Rkl.T @ Rkl)[0])))\n",
    "\n",
    "\n",
    "def beta_num(o):\n",
    "    def beta_x(x): \n",
    "      x = x[:2*j+1]+1j*x[2*j+1:]\n",
    "      x = x/np.linalg.norm(x)\n",
    "      W = np.einsum(\"i,tij,j->t\",x,o,x.conj()).real\n",
    "      return -np.real(np.vdot(W,W))\n",
    "    n_trials = 10\n",
    "    b = -np.min([minimize(beta_x, np.random.rand(2*(2*j+1))).fun for i in range(n_trials)])\n",
    "    return b"
   ]
  },
  {
   "cell_type": "markdown",
   "id": "93cf731c",
   "metadata": {},
   "source": [
    "We define the Gell-Mann, the spin-$j=(d-1)/2$ and the projectors to spin sublevels bases: "
   ]
  },
  {
   "cell_type": "code",
   "execution_count": 3,
   "id": "ed4cabb8",
   "metadata": {},
   "outputs": [],
   "source": [
    "def gm(j):\n",
    "    d=2*j+1\n",
    "    def gellmann(j, k, d):  \n",
    "        if j > k:\n",
    "            gjkd = np.zeros((d, d), dtype=np.complex128)\n",
    "            gjkd[j - 1][k - 1] = 1\n",
    "            gjkd[k - 1][j - 1] = 1\n",
    "        elif k > j:\n",
    "            gjkd = np.zeros((d, d), dtype=np.complex128)\n",
    "            gjkd[j - 1][k - 1] = -1.j\n",
    "            gjkd[k - 1][j - 1] = 1.j\n",
    "        elif j == k and j < d:\n",
    "            gjkd = np.sqrt(2/(j*(j + 1)))*np.diag([1 + 0.j if n <= j\n",
    "                                                   else (-j + 0.j if n == (j + 1)\n",
    "                                                         else 0 + 0.j)\n",
    "                                                   for n in range(1, d + 1)])\n",
    "        else:\n",
    "            gjkd = np.diag([1 + 0.j for n in range(1, d + 1)])\n",
    "        return gjkd\n",
    "    gm = [gellmann(1+i, 1+j, d) for i in range(d) for j in range(d)]\n",
    "    return [gm[i] for i in range(d**2-1)]\n",
    "\n",
    "def spin(j):\n",
    "    mz = np.arange(-j, j+1)\n",
    "    sp = np.diag(np.sqrt(j * (j+1) - mz[:-1]*(mz[:-1]+1)), k=-1)\n",
    "    jx = (sp+sp.T)/2\n",
    "    jy = -(sp-sp.T)/(2 * 1j)\n",
    "    jz = -np.diag(mz)\n",
    "    return [jx,jy,jz]\n",
    "\n",
    "def n(s,j): # m\\in \\{-j,-j+1,..,j\\} \n",
    "    px = np.matrix([np.linalg.eigh(spin(j)[0])[1][:,s+j]])\n",
    "    py = np.matrix([np.linalg.eigh(spin(j)[1])[1][:,s+j]])\n",
    "    pz = np.matrix([np.linalg.eigh(spin(j)[2])[1][:,s+j]])\n",
    "    return [np.array(px.H*px), np.array(py.H*py),np.array(pz.H*pz)]"
   ]
  },
  {
   "cell_type": "markdown",
   "id": "11f59f9b",
   "metadata": {},
   "source": [
    "In th present work we consider two bases: One composed of spin and projection to zero spin sublevel, and the other all the sublevel projections except zero for the three cartesian orthogonal directions $\\{x,y,z\\}$:\n",
    "\n",
    "$$\\mathcal{B}_1=\\{j^{(a)}, n_0^{(a)} \\}_{a\\in \\{x,y,z\\}}$$\n",
    "\n",
    "$$\\mathcal{B}_2=\\{\\{ n_s^{(a)} \\}_{s=-j\\neq o}^j\\}_{a\\in \\{x,y,z\\}}$$"
   ]
  },
  {
   "cell_type": "code",
   "execution_count": 4,
   "id": "e64a91bd",
   "metadata": {},
   "outputs": [],
   "source": [
    "def basis_1(j):\n",
    "    return spin(j) + n(0,j)\n",
    "\n",
    "def basis_2(j):\n",
    "    basis =[]\n",
    "    for s in [*range(-j, 0), *range(1, j+1)]:\n",
    "        basis += n(s,j)\n",
    "    return basis"
   ]
  },
  {
   "cell_type": "markdown",
   "id": "9772f607",
   "metadata": {},
   "source": [
    "As an example, for $j=1$ we obtain the bounds:"
   ]
  },
  {
   "cell_type": "code",
   "execution_count": 5,
   "id": "4282c51f",
   "metadata": {},
   "outputs": [],
   "source": [
    "j = 1\n",
    "gellmann = gm(1)"
   ]
  },
  {
   "cell_type": "code",
   "execution_count": 6,
   "id": "3b0dfd0e",
   "metadata": {},
   "outputs": [
    {
     "data": {
      "text/plain": [
       "1.4999999999999347"
      ]
     },
     "execution_count": 6,
     "metadata": {},
     "output_type": "execute_result"
    }
   ],
   "source": [
    "beta_num(basis_1(j))"
   ]
  },
  {
   "cell_type": "code",
   "execution_count": 7,
   "id": "eec4ce79",
   "metadata": {},
   "outputs": [
    {
     "data": {
      "text/plain": [
       "8.333333333333336"
      ]
     },
     "execution_count": 7,
     "metadata": {},
     "output_type": "execute_result"
    }
   ],
   "source": [
    "beta_ana(basis_1(j))"
   ]
  },
  {
   "cell_type": "code",
   "execution_count": 8,
   "id": "10a1bff1",
   "metadata": {},
   "outputs": [
    {
     "data": {
      "text/plain": [
       "1.2499999999995932"
      ]
     },
     "execution_count": 8,
     "metadata": {},
     "output_type": "execute_result"
    }
   ],
   "source": [
    "beta_num(basis_2(j))"
   ]
  },
  {
   "cell_type": "code",
   "execution_count": 9,
   "id": "869ed0d5",
   "metadata": {},
   "outputs": [
    {
     "data": {
      "text/plain": [
       "8.66666666666667"
      ]
     },
     "execution_count": 9,
     "metadata": {},
     "output_type": "execute_result"
    }
   ],
   "source": [
    "beta_ana(basis_2(j))"
   ]
  }
 ],
 "metadata": {
  "kernelspec": {
   "display_name": "Python 3 (ipykernel)",
   "language": "python",
   "name": "python3"
  },
  "language_info": {
   "codemirror_mode": {
    "name": "ipython",
    "version": 3
   },
   "file_extension": ".py",
   "mimetype": "text/x-python",
   "name": "python",
   "nbconvert_exporter": "python",
   "pygments_lexer": "ipython3",
   "version": "3.9.7"
  }
 },
 "nbformat": 4,
 "nbformat_minor": 5
}
